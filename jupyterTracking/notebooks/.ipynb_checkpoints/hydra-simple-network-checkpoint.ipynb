{
 "cells": [
  {
   "cell_type": "code",
   "execution_count": 32,
   "metadata": {},
   "outputs": [
    {
     "name": "stdout",
     "output_type": "stream",
     "text": [
      "db:\n",
      "  driver: mysql\n",
      "  user: root\n",
      "  password: secret\n",
      "  sausage: salami\n",
      "learning:\n",
      "  learning_rate: 0.0001\n",
      "  num_epochs: 10\n",
      "  batch_size: 64\n",
      "\n",
      "10\n"
     ]
    }
   ],
   "source": [
    "# Hydra config\n",
    "    \n",
    "import os\n",
    "from hydra import initialize, initialize_config_module, initialize_config_dir, compose\n",
    "from omegaconf import OmegaConf\n",
    "\n",
    "# to remove prior config\n",
    "from hydra.core.global_hydra import GlobalHydra\n",
    "\n",
    "GlobalHydra.instance().clear()  # Clear any previous initialization\n",
    "# GlobalHydra.instance().initialize(config_path=\"config.yaml\")\n",
    "initialize(version_base=None, config_path=\"conf\")\n",
    "# cfg= compose(config_name=\"config\")\n",
    "# cfg= compose(config_name=\"config\", overrides=[\"learning=short\"])\n",
    "cfg= compose(config_name=\"config\", overrides=[\"learning=long\"])\n",
    "print(OmegaConf.to_yaml(cfg))\n",
    "\n",
    "learning_specs = cfg.learning\n",
    "\n",
    "# Accessing specific values within the 'db' configuration\n",
    "learning_rate=learning_specs.learning_rate\n",
    "batch_size=learning_specs.batch_size\n",
    "num_epochs=learning_specs.num_epochs\n",
    "\n",
    "# Now you can use these values in your code\n",
    "print(num_epochs)"
   ]
  },
  {
   "cell_type": "code",
   "execution_count": null,
   "metadata": {},
   "outputs": [],
   "source": [
    "import torch\n",
    "import torch.nn as nn\n",
    "import torch.optim as optim\n",
    "import torchvision\n",
    "import torchvision.transforms as transforms\n",
    "import mlflow\n",
    "import mlflow.pytorch\n",
    "\n",
    "# Set the MLflow tracking URI (use your own server or the default local URI)\n",
    "mlflow.set_tracking_uri(\"http://host.docker.internal:5000\")\n",
    "\n",
    "print(\"EEEEEYY\")\n",
    "\n",
    "# Create a MLflow experiment (you can change the experiment name)\n",
    "mlflow.set_experiment(\"simple-network\")\n",
    "\n",
    "    \n",
    "\n",
    "\n",
    "# Create a PyTorch neural network model\n",
    "class SimpleNet(nn.Module):\n",
    "    def __init__(self):\n",
    "        super(SimpleNet, self).__init__()\n",
    "        self.fc = nn.Linear(784, 10)\n",
    "\n",
    "    def forward(self, x):\n",
    "        x = x.view(x.size(0), -1)\n",
    "        x = self.fc(x)\n",
    "        return x\n",
    "\n",
    "model = SimpleNet()\n",
    "\n",
    "# Define loss and optimizer\n",
    "criterion = nn.CrossEntropyLoss()\n",
    "optimizer = optim.Adam(model.parameters(), lr=learning_rate)\n",
    "\n",
    "# Load and preprocess the dataset (MNIST as an example)\n",
    "transform = transforms.Compose([transforms.ToTensor(), transforms.Normalize((0.5,), (0.5,))])\n",
    "train_dataset = torchvision.datasets.MNIST(root='./data', train=True, transform=transform, download=True)\n",
    "train_loader = torch.utils.data.DataLoader(train_dataset, batch_size=batch_size, shuffle=True)\n",
    "\n",
    "# Training loop\n",
    "with mlflow.start_run() as run:\n",
    "    mlflow.log_params({\"learning_rate\": learning_rate, \"num_epochs\": num_epochs, \"batch_size\": batch_size})\n",
    "\n",
    "    for epoch in range(num_epochs):\n",
    "        for i, (images, labels) in enumerate(train_loader):\n",
    "            optimizer.zero_grad()\n",
    "            outputs = model(images)\n",
    "            loss = criterion(outputs, labels)\n",
    "            loss.backward()\n",
    "            optimizer.step()\n",
    "\n",
    "        # Log metrics and save the model\n",
    "        mlflow.log_metric(\"train_loss\", loss.item(), step=epoch)\n",
    "        mlflow.pytorch.log_model(model, \"models\")\n",
    "\n",
    "# You can view the results in the MLflow UI by running `mlflow ui` in your terminal\n"
   ]
  },
  {
   "cell_type": "code",
   "execution_count": null,
   "metadata": {},
   "outputs": [],
   "source": []
  },
  {
   "cell_type": "code",
   "execution_count": 3,
   "metadata": {},
   "outputs": [
    {
     "name": "stdout",
     "output_type": "stream",
     "text": [
      "hi\n"
     ]
    }
   ],
   "source": [
    "print(\"hi\")"
   ]
  },
  {
   "cell_type": "code",
   "execution_count": null,
   "metadata": {},
   "outputs": [],
   "source": []
  }
 ],
 "metadata": {
  "kernelspec": {
   "display_name": "Python 3 (ipykernel)",
   "language": "python",
   "name": "python3"
  },
  "language_info": {
   "codemirror_mode": {
    "name": "ipython",
    "version": 3
   },
   "file_extension": ".py",
   "mimetype": "text/x-python",
   "name": "python",
   "nbconvert_exporter": "python",
   "pygments_lexer": "ipython3",
   "version": "3.11.5"
  }
 },
 "nbformat": 4,
 "nbformat_minor": 4
}
